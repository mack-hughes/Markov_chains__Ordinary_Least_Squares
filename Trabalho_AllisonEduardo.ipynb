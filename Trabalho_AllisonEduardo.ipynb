{
 "cells": [
  {
   "cell_type": "markdown",
   "metadata": {},
   "source": [
    "# Trabalho Final\n",
    "\n",
    "### Regras:\n",
    "\n",
    "1. Pode ser feito individualmente ou em dupla (porém cada um deve colocar o código em um arquivio próprio);\n",
    "2. O arquivo deve ser salvo como: \"Trabalho_seunome.ipynb\" e entregue na plataforma ou no e-mail: `profmatheus.pacheco@fiap.com.br`,\n",
    "3. O Trabalho deve ser entregue no máximo até dia `20/09/2022`;\n",
    "4. Escolhe apenas 1 dos 3 enunciados propostos.\n",
    "\n",
    "\n"
   ]
  },
  {
   "cell_type": "markdown",
   "metadata": {},
   "source": [
    "## Importing the libraries "
   ]
  },
  {
   "cell_type": "code",
   "execution_count": 6,
   "metadata": {},
   "outputs": [],
   "source": [
    "from functools import reduce\n",
    "import numpy as np\n",
    "import pandas as pd\n",
    "import random\n",
    "import sympy as smp\n",
    "import matplotlib.pyplot as plt"
   ]
  },
  {
   "cell_type": "markdown",
   "metadata": {},
   "source": [
    "# Enunciados\n",
    "\n",
    "### Cadeia de Markov\n",
    "\n",
    "Uma guarda de trânsito é designada para controlar o trâfego nos oito cruzametos da rua central. Ela é instruida a permanecer em cada cruzamento por uma hora e, em seguida, ou permanecer no mesmo cruzamento ou seguir para um cruzamento adjacente. Para evitar que ela estabeleça um padrão, ela deve escolher o novo cruzamento de maneira aleatória, com qualquer escolha igualmente provável. Por exemplo, se ela está no cruzamento 5, seu próximo cruzamento pode ser 2, 4, 5 ou 8, cada um com probabilidade de $\\frac{1}{4}$. Cada dia ela começa no cruzamento em que parou no dia anterior. A matriz de transição desta cadeia de Markov é :\n",
    "\n",
    "```py\n",
    "import numpy as np \n",
    "\n",
    "C = np.array([[1/3, 1/3, 0  , 1/4, 0  , 0  , 0  , 0  ],\n",
    "              [1/3, 1/3, 0  , 0  , 1/4, 0  , 0  , 0  ],\n",
    "              [0  , 0  , 1/3, 0, 0  , 1/3, 0  , 0  ],\n",
    "              [1/3, 0  , 1/3, 1/4, 1/4, 0  , 1/4, 0  ],\n",
    "              [0  , 1/3, 0  , 1/4, 1/4, 0  , 0  , 1/2],\n",
    "              [0  , 0  , 1/3, 0  , 0  , 1/3, 1/4, 0  ],\n",
    "              [0  , 0  , 0  , 1/4, 0  , 1/3, 1/4, 0],\n",
    "              [0  , 0  , 0  , 0  , 1/4, 0  , 1/4, 1/2]])\n",
    "\n",
    "```\n",
    "\n",
    "Através do método das Cadeias de Markov, calcule a tendência de probabilidade levando em conta os oitos cruzamentos\n",
    "\n",
    "\n",
    "Obs: Você deve provar com 4 vetores-estado diferentes que eles convergem para o mesmo valor."
   ]
  },
  {
   "cell_type": "markdown",
   "metadata": {},
   "source": [
    "## The resolution consist of \n",
    "* Create four random state-vector (x1, x2, x3 and x4)\n",
    "* Multiply them for the C matrix i.e verify in which crossings she will going to starts next day  \n",
    "* Multiply the result obtained in the previous step for C again. Take this step more 100 times (I'm using 100 because it wasn't specified an the acceptable error in the convergence process)\n",
    "* Compare the results, check if: $C*(x_i)^{99}=x_i^{100}$ for any i\n",
    "### The conclusion is that the probabilites converges!"
   ]
  },
  {
   "cell_type": "code",
   "execution_count": 3,
   "metadata": {},
   "outputs": [],
   "source": [
    "# Sua resposta aqui\n",
    "C = np.array([[1/3, 1/3, 0  , 1/4, 0  , 0  , 0  , 0  ],\n",
    "              [1/3, 1/3, 0  , 0  , 1/4, 0  , 0  , 0  ],\n",
    "              [0  , 0  , 1/3, 0, 0  , 1/3, 0  , 0  ],\n",
    "              [1/3, 0  , 1/3, 1/4, 1/4, 0  , 1/4, 0  ],\n",
    "              [0  , 1/3, 0  , 1/4, 1/4, 0  , 0  , 1/2],\n",
    "              [0  , 0  , 1/3, 0  , 0  , 1/3, 1/4, 0  ],\n",
    "              [0  , 0  , 0  , 1/4, 0  , 1/3, 1/4, 0],\n",
    "              [0  , 0  , 0  , 0  , 1/4, 0  , 1/4, 1/2]])"
   ]
  },
  {
   "cell_type": "code",
   "execution_count": 4,
   "metadata": {},
   "outputs": [],
   "source": [
    "def random_state(rows = 8):\n",
    "    \"\"\"This function generates a (n-row, 1) array with zeros and a single output with value one \n",
    "\n",
    "    Args:\n",
    "        rows (int, optional): _description_. Defaults to 8.\n",
    "\n",
    "    Returns:\n",
    "        numpy array: random array\n",
    "    \"\"\"\n",
    "    state = np.zeros(rows)\n",
    "    state[random.randint(0,rows-1)] = 1\n",
    "    return state.reshape(rows,1)"
   ]
  },
  {
   "cell_type": "code",
   "execution_count": 5,
   "metadata": {},
   "outputs": [],
   "source": [
    "\"A smart way to create x1, x2, ...\"\n",
    "for i in range(4):\n",
    "    locals()[f'x{i+1}'] = random_state()"
   ]
  },
  {
   "cell_type": "code",
   "execution_count": 9,
   "metadata": {},
   "outputs": [
    {
     "name": "stdout",
     "output_type": "stream",
     "text": [
      "         x1        x2        x3        x4\n",
      "1  0.145997  0.145997  0.145997  0.145997\n",
      "2  0.160126  0.160126  0.160126  0.160126\n",
      "3  0.018838  0.018838  0.018838  0.018838\n",
      "4  0.175824  0.175824  0.175824  0.175824\n",
      "5  0.232339  0.232339  0.232339  0.232339\n",
      "6  0.037677  0.037677  0.037677  0.037677\n",
      "7  0.075353  0.075353  0.075353  0.075353\n",
      "8  0.153846  0.153846  0.153846  0.153846\n"
     ]
    }
   ],
   "source": [
    "first_day_position = {}\n",
    "for i in range(4):\n",
    "    first_day_position[f'x{i+1}'] = locals()[f'x{i+1}'].reshape(8)\n",
    "print(pd.DataFrame(first_day_position, index=range(1,9)))"
   ]
  },
  {
   "cell_type": "code",
   "execution_count": 30,
   "metadata": {},
   "outputs": [
    {
     "name": "stdout",
     "output_type": "stream",
     "text": [
      "         p1        p2        p3        p4\n",
      "1  0.145997  0.145997  0.145997  0.145997\n",
      "2  0.160126  0.160126  0.160126  0.160126\n",
      "3  0.018838  0.018838  0.018838  0.018838\n",
      "4  0.175824  0.175824  0.175824  0.175824\n",
      "5  0.232339  0.232339  0.232339  0.232339\n",
      "6  0.037677  0.037677  0.037677  0.037677\n",
      "7  0.075353  0.075353  0.075353  0.075353\n",
      "8  0.153846  0.153846  0.153846  0.153846\n",
      "\\left[\\begin{matrix}0.146 & 0.146 & 0.146 & 0.146\\\\0.16 & 0.16 & 0.16 & 0.16\\\\0.019 & 0.019 & 0.019 & 0.019\\\\0.176 & 0.176 & 0.176 & 0.176\\\\0.232 & 0.232 & 0.232 & 0.232\\\\0.038 & 0.038 & 0.038 & 0.038\\\\0.075 & 0.075 & 0.075 & 0.075\\\\0.154 & 0.154 & 0.154 & 0.154\\end{matrix}\\right]\n",
      "\\left[\\begin{matrix}0.146 & 0.146 & 0.146 & 0.146\\\\0.16 & 0.16 & 0.16 & 0.16\\\\0.019 & 0.019 & 0.019 & 0.019\\\\0.176 & 0.176 & 0.176 & 0.176\\\\0.232 & 0.232 & 0.232 & 0.232\\\\0.038 & 0.038 & 0.038 & 0.038\\\\0.075 & 0.075 & 0.075 & 0.075\\\\0.154 & 0.154 & 0.154 & 0.154\\end{matrix}\\right]\n"
     ]
    }
   ],
   "source": [
    "probable_position_99 = {}\n",
    "probable_position_100 = {}\n",
    "\n",
    "locals()[f'p{i+1}'] = np.dot(C, locals()[f'x{i+1}'])\n",
    "\n",
    "\"Calculating the 100 iterations\"\n",
    "for j in range(1, 101):\n",
    "    for i in range(4):\n",
    "        locals()[f'p{i+1}'] = np.dot(C, locals()[f'p{i+1}'])\n",
    "        if j == 99:\n",
    "            probable_position_99[f'p{i+1}'] = locals()[f'p{i+1}'].reshape(8)\n",
    "        if j == 100:\n",
    "            probable_position_100[f'p{i+1}'] = locals()[f'p{i+1}'].reshape(8)\n",
    "\n",
    "\"Puting it in a dataframe\"\n",
    "for i in range(4):\n",
    "    probable_position_99[f'p{i+1}'] = locals()[f'p{i+1}'].reshape(8)\n",
    "    probable_position_100[f'p{i+1}'] = locals()[f'p{i+1}'].reshape(8)\n",
    "df_probable_position_99 = pd.DataFrame(probable_position_99, index=range(1,9))\n",
    "df_probable_position_100 = pd.DataFrame(probable_position_100, index=range(1,9))\n",
    "\n",
    "\"printing the last one, just to confirm\"\n",
    "print(pd.DataFrame(probable_position_100, index=range(1,9)))\n",
    "\n",
    "\"generating latex code with array data\"\n",
    "latex99 = smp.print_latex(smp.Matrix(df_probable_position_99.to_numpy().round(3)))\n",
    "latex100 = smp.print_latex(smp.Matrix(df_probable_position_100.to_numpy().round(3)))"
   ]
  },
  {
   "cell_type": "markdown",
   "metadata": {},
   "source": [
    "If we put the two matrices, the first referent to the probability of the four intial random state after ninety-nine interactions, and the second referring to hundredth interaction together we see they are the same. The conclusion is that the probability converge regardless the initial state\n",
    "\n",
    "$$\\left[\\begin{matrix}0.146 & 0.146 & 0.146 & 0.146\\\\0.16 & 0.16 & 0.16 & 0.16\\\\0.019 & 0.019 & 0.019 & 0.019\\\\0.176 & 0.176 & 0.176 & 0.176\\\\0.232 & 0.232 & 0.232 & 0.232\\\\0.038 & 0.038 & 0.038 & 0.038\\\\0.075 & 0.075 & 0.075 & 0.075\\\\0.154 & 0.154 & 0.154 & 0.154\\end{matrix}\\right] \\ \\ \\ \\left[\\begin{matrix}0.146 & 0.146 & 0.146 & 0.146\\\\0.16 & 0.16 & 0.16 & 0.16\\\\0.019 & 0.019 & 0.019 & 0.019\\\\0.176 & 0.176 & 0.176 & 0.176\\\\0.232 & 0.232 & 0.232 & 0.232\\\\0.038 & 0.038 & 0.038 & 0.038\\\\0.075 & 0.075 & 0.075 & 0.075\\\\0.154 & 0.154 & 0.154 & 0.154\\end{matrix}\\right]$$"
   ]
  },
  {
   "cell_type": "markdown",
   "metadata": {},
   "source": [
    "# =-=-=-=-=-=-=-=-=-=-=-=-=-=-=-=-=-=-=-=-=-=-=-=-=-=-=-=-=-=-=-=-=-=-=-=-"
   ]
  },
  {
   "cell_type": "markdown",
   "metadata": {},
   "source": [
    "### Método dos mínimos Quadrados\n",
    "\n",
    "Encontre o polinômio cúbico utilizando o método de mínimos quadráticos, use os pontos $(-1,-10), (0,5), (1,6), (2,11) e (3,42)$.\n",
    "\n",
    "Obs: Utilize a equação $$ax^{3}+bx^{2}+cx+d$$\n",
    "\n",
    "\n",
    "\n",
    "Obs2: Plote os gráficos demonstrando a curva que melhor se ajusta aos pontos."
   ]
  },
  {
   "cell_type": "markdown",
   "metadata": {},
   "source": [
    "## Resolution\n",
    "So you want to minimize $S= \\sum_{i=0}^4\\left (p(x_i)-y_i\\right )^2$ where $p(x)=\\sum_{k=0}^3 a_kx^k$\n",
    "The parameters you want to find are the ak. You need to differentiate S with respect to each ak and set that expression equal to zero.\n",
    "\n",
    "This will give you 4 equations in the 4 aks.\n",
    "\n",
    "Here is a typical one:\n",
    "\n",
    "$$\\begin{aligned}\n",
    "\\dfrac{\\partial S}{\\partial a_k}\n",
    "&=\\dfrac{\\partial }{\\partial a_k}\\sum_{i=0}^4\\left( p(x_i)-y_i\\right)^2\\\\\n",
    "&=\\sum_{i=0}^4 \\dfrac{\\partial }{\\partial a_k}\\left(p(x_i)-y_i\\right)^2\\\\\n",
    "&=\\sum_{i=0}^4 2\\dfrac{\\partial }{\\partial a_k}(p(x_i)-y_i)(p(x_i)-y_i)\\\\\n",
    "&=\\sum_{i=0}^4 2\\dfrac{\\partial }{\\partial a_k}(\\sum_{j=0}^3 a_jx_i^j)(p(x_i)-y_i)\\\\\n",
    "&=\\sum_{i=0}^4 2( x_i^k)(\\sum_{j=0}^3 a_jx_i^j-y_i)\\\\\n",
    "&=2(\\sum_{j=0}^3 a_j\\sum_{i=0}^4 x_i^{j+k}-\\sum_{i=0}^4 x_i^ky_i)\\end{aligned}$$\n",
    "\n",
    "Setting $\\dfrac{\\partial S}{\\partial a_k} = 0$, this gives $\\sum_{j=0}^3 a_j\\sum_{i=0}^4 x_i^{j+k}=\\sum_{i=0}^4 x_i^ky_i$ for $k=0$ to $3$.\n",
    "\n",
    "These are the equations that determine the $a_j$.\n",
    "\n",
    "From this we can build a set of linear equations for a polynomial of order $k$ gien $N$ observations $(x_i, y_i)$: \n",
    "\n",
    "$$\n",
    "\\begin{bmatrix}\n",
    "N & \\sum_{i=1}^{N} x_i & \\cdots  & \\sum_{i=1}^{N} x_i^k \\\\ \n",
    "\\sum_{i=1}^{N} x_i & \\sum_{i=1}^{N} x_i^2 & \\cdots & \\sum_{i=1}^{N} x_i^{k+1} \\\\ \n",
    "\\vdots & \\vdots & \\vdots & \\vdots \\\\ \n",
    "\\sum_{i=1}^{N} x_i^k & \\sum_{i=1}^{N} x_i^{k+1} & \\cdots & \\sum_{i=1}^{N} x_i^{2k}\n",
    "\\end{bmatrix}\n",
    "\\begin{bmatrix} \n",
    "a_0 \\\\\n",
    "a_1 \\\\\n",
    "\\vdots \\\\\n",
    "a_k \\\\\n",
    "\\end{bmatrix}=\n",
    "\\begin{bmatrix} \n",
    "\\sum_{i=1}^{N} y_i \\\\\n",
    "\\sum_{i=1}^{N} x_i y_i \\\\\n",
    "\\vdots \\\\\n",
    "\\sum_{i=1}^{N} x_i^k y_i \\\\\n",
    "\\end{bmatrix}\n",
    "$$\n",
    "\n",
    "Or just: $Xa=Y$"
   ]
  },
  {
   "cell_type": "code",
   "execution_count": 7,
   "metadata": {},
   "outputs": [],
   "source": [
    "\"points\"\n",
    "p1, p2, p3, p4, p5 = (-1,-10), (0,5), (1,6), (2,11), (3,42)"
   ]
  },
  {
   "cell_type": "code",
   "execution_count": 8,
   "metadata": {},
   "outputs": [
    {
     "name": "stdout",
     "output_type": "stream",
     "text": [
      "[-1  0  1  2  3] [-10   5   6  11  42]\n"
     ]
    }
   ],
   "source": [
    "\"Breaking p in x and y\"\n",
    "x = []\n",
    "y = []\n",
    "for i in range(5):\n",
    "    x.append(locals()[f'p{i+1}'][0])\n",
    "    y.append(locals()[f'p{i+1}'][1])\n",
    "x = np.array(x)\n",
    "y = np.array(y)\n",
    "print(x, y)"
   ]
  },
  {
   "cell_type": "code",
   "execution_count": 9,
   "metadata": {},
   "outputs": [
    {
     "data": {
      "text/latex": [
       "$\\displaystyle \\left[\\begin{matrix}5 & 5 & 15 & 35\\\\5 & 15 & 35 & 99\\\\15 & 35 & 99 & 275\\\\35 & 99 & 275 & 795\\end{matrix}\\right]$"
      ],
      "text/plain": [
       "Matrix([\n",
       "[ 5,  5,  15,  35],\n",
       "[ 5, 15,  35,  99],\n",
       "[15, 35,  99, 275],\n",
       "[35, 99, 275, 795]])"
      ]
     },
     "execution_count": 9,
     "metadata": {},
     "output_type": "execute_result"
    }
   ],
   "source": [
    "\"Calculating X\"\n",
    "X = np.array([[5, sum(x), sum(x**2), sum(x**3)],\n",
    "          [sum(x), sum(x**2), sum(x**3), sum(x**4)],\n",
    "          [sum(x**2), sum(x**3), sum(x**4), sum(x**5)],\n",
    "          [sum(x**3), sum(x**4), sum(x**5), sum(x**6)]])\n",
    "\n",
    "smp.Matrix(X)"
   ]
  },
  {
   "cell_type": "code",
   "execution_count": 10,
   "metadata": {},
   "outputs": [
    {
     "data": {
      "text/latex": [
       "$\\displaystyle \\left[\\begin{matrix}54\\\\164\\\\418\\\\1238\\end{matrix}\\right]$"
      ],
      "text/plain": [
       "Matrix([\n",
       "[  54],\n",
       "[ 164],\n",
       "[ 418],\n",
       "[1238]])"
      ]
     },
     "execution_count": 10,
     "metadata": {},
     "output_type": "execute_result"
    }
   ],
   "source": [
    "\"Calculating Y\"\n",
    "Y = np.array([[sum(y)],\n",
    "             [sum(x*y)],\n",
    "             [sum(x**2*y)],\n",
    "             [sum(x**3*y)]])\n",
    "\n",
    "smp.Matrix(Y)"
   ]
  },
  {
   "cell_type": "markdown",
   "metadata": {},
   "source": [
    "$$\\begin{aligned} Xa &= Y \\\\ \n",
    "                  X^{-1}Xa &= X^{-1}Y     \\\\\n",
    "                  a &= X^{-1}Y     \n",
    "\\end{aligned}$$"
   ]
  },
  {
   "cell_type": "code",
   "execution_count": 11,
   "metadata": {},
   "outputs": [
    {
     "data": {
      "text/latex": [
       "$\\displaystyle \\left[\\begin{matrix}5.22857142857117\\\\4.52380952380943\\\\-7.42857142857127\\\\3.3333333333333\\end{matrix}\\right]$"
      ],
      "text/plain": [
       "Matrix([\n",
       "[ 5.22857142857117],\n",
       "[ 4.52380952380943],\n",
       "[-7.42857142857127],\n",
       "[  3.3333333333333]])"
      ]
     },
     "execution_count": 11,
     "metadata": {},
     "output_type": "execute_result"
    }
   ],
   "source": [
    "\"Calculating a\"\n",
    "a = np.dot(np.linalg.inv(X),Y)\n",
    "smp.Matrix(a)"
   ]
  },
  {
   "cell_type": "code",
   "execution_count": 12,
   "metadata": {},
   "outputs": [],
   "source": [
    "\"Criating the curve\"\n",
    "x2 = np.linspace(-4, 4, 100)\n",
    "y2 = a[0] + a[1]*x2**1 + a[2]*x2**2 + a[3]*x2**3"
   ]
  },
  {
   "cell_type": "code",
   "execution_count": 17,
   "metadata": {},
   "outputs": [
    {
     "data": {
      "image/png": "[encoded data removed]",
      "text/plain": [
       "<Figure size 432x288 with 1 Axes>"
      ]
     },
     "metadata": {
      "needs_background": "light"
     },
     "output_type": "display_data"
    }
   ],
   "source": [
    "\"Plotting the result\"\n",
    "plt.plot(x2, y2, linestyle=':', color=\"green\", ms=5)\n",
    "plt.plot(x, y, 'o', color=\"purple\", ms=5)\n",
    "plt.xlim(-1.5,3.5)\n",
    "plt.ylim(-30,50)\n",
    "plt.show()"
   ]
  },
  {
   "cell_type": "markdown",
   "metadata": {},
   "source": [
    "### Manipulação de imagens\n",
    "\n",
    "Escolha 5 fotos diferentes e faça os seguintes procedimentos:\n",
    "\n",
    "1. Crie uma função que transforme uma imagem colorida em cinza;\n",
    "2. Utilize o Kernel do efeito sépia para aplicar nas fotos escolhidas; \n",
    "\n",
    "```py\n",
    "\n",
    "sepia = [0.272, 0.534, 0.131],\n",
    "        [0.349, 0.686, 0.168],\n",
    "        [0.393, 0.769, 0.189]\n",
    "```\n",
    "3. Escolha mais 3 kernels de feitos diferentes e aplique nas imagens;\n",
    "4. Decomponha em camadas RGB todas as imagens. (utilize o slice ao invés de fazer por OpenCV)"
   ]
  },
  {
   "cell_type": "code",
   "execution_count": null,
   "metadata": {},
   "outputs": [],
   "source": [
    "# Sua resposta aqui"
   ]
  }
 ],
 "metadata": {
  "kernelspec": {
   "display_name": "Python 3.9.12 ('base')",
   "language": "python",
   "name": "python3"
  },
  "language_info": {
   "codemirror_mode": {
    "name": "ipython",
    "version": 3
   },
   "file_extension": ".py",
   "mimetype": "text/x-python",
   "name": "python",
   "nbconvert_exporter": "python",
   "pygments_lexer": "ipython3",
   "version": "3.9.12"
  },
  "orig_nbformat": 4,
  "vscode": {
   "interpreter": {
    "hash": "70359085ef875e2bdc43f80dd28a20c66d53ef9883fac0de1a8c75e12e54635a"
   }
  }
 },
 "nbformat": 4,
 "nbformat_minor": 2
}
